{
  "nbformat": 4,
  "nbformat_minor": 0,
  "metadata": {
    "colab": {
      "provenance": [],
      "authorship_tag": "ABX9TyMquSFq8MhwryFUsl4mLKPy",
      "include_colab_link": true
    },
    "kernelspec": {
      "name": "python3",
      "display_name": "Python 3"
    },
    "language_info": {
      "name": "python"
    }
  },
  "cells": [
    {
      "cell_type": "markdown",
      "metadata": {
        "id": "view-in-github",
        "colab_type": "text"
      },
      "source": [
        "<a href=\"https://colab.research.google.com/github/Adriandzidan/Tugas-Pak-Prayit-ALPRO-/blob/main/Jobsheet03.ipynb\" target=\"_parent\"><img src=\"https://colab.research.google.com/assets/colab-badge.svg\" alt=\"Open In Colab\"/></a>"
      ]
    },
    {
      "cell_type": "markdown",
      "source": [
        "# **HASIL PRAKTIKUM**"
      ],
      "metadata": {
        "id": "8uATx3Jt-MuZ"
      }
    },
    {
      "cell_type": "markdown",
      "source": [
        "**1. If Sederhana**"
      ],
      "metadata": {
        "id": "BTRbSR2Q-ekI"
      }
    },
    {
      "cell_type": "code",
      "execution_count": null,
      "metadata": {
        "colab": {
          "base_uri": "https://localhost:8080/"
        },
        "id": "6Pz-46fpMpGS",
        "outputId": "322b503e-6e22-4493-a1ba-ec957fd90761"
      },
      "outputs": [
        {
          "output_type": "stream",
          "name": "stdout",
          "text": [
            "masukkan nilai ujian:70\n",
            "Anda LULUS\n"
          ]
        }
      ],
      "source": [
        "nilai = int(input(\"masukkan nilai ujian:\" ))\n",
        "if nilai >= 60:\n",
        "    print(\"Anda LULUS\")"
      ]
    },
    {
      "cell_type": "markdown",
      "source": [
        "**2. If-Else**"
      ],
      "metadata": {
        "id": "F2XHPlr4_NYO"
      }
    },
    {
      "cell_type": "code",
      "source": [
        "nilai = int(input(\"masukkan nilai ujian: \"))\n",
        "if nilai >= 60:\n",
        "  print (\"anda lulus\")\n",
        "else:\n",
        "  print (\"anda tidak lulus\")"
      ],
      "metadata": {
        "id": "44Q7ogW0_NqA",
        "colab": {
          "base_uri": "https://localhost:8080/"
        },
        "outputId": "e8c12333-ccbe-4649-8d01-4eb491be0cfa"
      },
      "execution_count": null,
      "outputs": [
        {
          "output_type": "stream",
          "name": "stdout",
          "text": [
            "masukkan nilai ujian: 50\n",
            "anda tidak lulus\n"
          ]
        }
      ]
    },
    {
      "cell_type": "markdown",
      "source": [
        "**3. If Elif Else**"
      ],
      "metadata": {
        "id": "SAo0htS4_ODz"
      }
    },
    {
      "cell_type": "code",
      "source": [
        "nilai = int(input(\"masukkan nilai akhir: \"))\n",
        "\n",
        "if nilai >= 90:\n",
        "  grade = \"A\"\n",
        "elif nilai >= 80:\n",
        "  grade = \"B\"\n",
        "elif nilai >= 70:\n",
        "  grade = \"C\"\n",
        "elif nilai >= 60:\n",
        "  grade = \"D\"\n",
        "else:\n",
        "  grade = \"E\"\n",
        "print(f\"nilai anda {nilai}, maka grade anda = {grade}\")"
      ],
      "metadata": {
        "id": "sHU75ZxK_OVj",
        "colab": {
          "base_uri": "https://localhost:8080/"
        },
        "outputId": "1b9d39b7-4bf1-4c91-a444-5845b450adcf"
      },
      "execution_count": null,
      "outputs": [
        {
          "output_type": "stream",
          "name": "stdout",
          "text": [
            "masukkan nilai akhir: 78\n",
            "nilai anda 78, maka grade anda = C\n"
          ]
        }
      ]
    },
    {
      "cell_type": "markdown",
      "source": [
        "**4. Nested If**"
      ],
      "metadata": {
        "id": "1CLcxkdz_U19"
      }
    },
    {
      "cell_type": "code",
      "source": [
        "ipk = float(input(\"Masukkan IPK: \"))\n",
        "sks = int(input(\"Masukkan jumlah SKS: \"))\n",
        "\n",
        "if ipk >= 3.0:\n",
        "  if sks >= 18:\n",
        "\t\t  print(\"Anda LAYAK mendapat beasiswa\")\n",
        "  else:\n",
        "      print(\"IPK memenuhi, tapi SKS kurang\")\n",
        "else:\n",
        "  print(\"Anda TIDAK layak mendapat beasiswa\")\n"
      ],
      "metadata": {
        "id": "LbyCc39z_VPL",
        "colab": {
          "base_uri": "https://localhost:8080/"
        },
        "outputId": "ffb3749b-4fd5-45ee-c637-ed790f3e0b30"
      },
      "execution_count": null,
      "outputs": [
        {
          "output_type": "stream",
          "name": "stdout",
          "text": [
            "Masukkan IPK: 2.8\n",
            "Masukkan jumlah SKS: 20\n",
            "Anda TIDAK layak mendapat beasiswa\n"
          ]
        }
      ]
    },
    {
      "cell_type": "markdown",
      "source": [
        "**5. Match Case**"
      ],
      "metadata": {
        "id": "TxMtwA1z_Vee"
      }
    },
    {
      "cell_type": "code",
      "source": [
        "menu = int(input(\"pilih menu (1-3): \"))\n",
        "\n",
        "match menu:\n",
        "  case 1:\n",
        "    print(\"anda memilih menu nasi goreng\")\n",
        "  case 2:\n",
        "    print(\"anda memilih menu mie ayam\")\n",
        "  case 3:\n",
        "    print(\"anda memilih menu soto ayam\")\n",
        "  case _:\n",
        "    print(\"menu tidak tersedia\")\n"
      ],
      "metadata": {
        "id": "3-2yXlfi_VtY",
        "colab": {
          "base_uri": "https://localhost:8080/"
        },
        "outputId": "c09a9cb7-408e-4005-be16-73170a5acb3f"
      },
      "execution_count": null,
      "outputs": [
        {
          "output_type": "stream",
          "name": "stdout",
          "text": [
            "pilih menu (1-3): 9\n",
            "menu tidak tersedia\n"
          ]
        }
      ]
    },
    {
      "cell_type": "markdown",
      "source": [
        "**6. Program kasir**"
      ],
      "metadata": {
        "id": "oO9FFGG7_V9l"
      }
    },
    {
      "cell_type": "code",
      "source": [
        "barang = input(\"Masukkan nama barang: \")\n",
        "harga = float(input(\"Masukkan harga barang: \"))\n",
        "jumlah = int(input(\"Masukkan jumlah barang: \"))\n",
        "\n",
        "total = harga * jumlah\n",
        "\n",
        "if total>= 500000:\n",
        "  diskon = 0.2\n",
        "elif total >= 250000:\n",
        "  diskon = 0.1\n",
        "else:\n",
        "  diskon = 0\n",
        "\n",
        "bayar = total - (total * diskon)\n",
        "\n",
        "print(\"\\n===== Struk Belanja =====\")\n",
        "print(f\"Barang: {barang}\")\n",
        "print(f\"Harga: {harga}\")\n",
        "print(f\"Jumlah: {jumlah}\")\n",
        "print(f\"Total: {total}\")\n",
        "print(f\"Diskon: {diskon * 100}%\")\n",
        "print(f\"bayar : Rp {bayar}\")"
      ],
      "metadata": {
        "id": "ea2sQqMX_WKO",
        "colab": {
          "base_uri": "https://localhost:8080/"
        },
        "outputId": "cef9d2cc-84cf-463d-8ae5-316d90eceff2"
      },
      "execution_count": null,
      "outputs": [
        {
          "output_type": "stream",
          "name": "stdout",
          "text": [
            "Masukkan nama barang: pulpen\n",
            "Masukkan harga barang: 5000\n",
            "Masukkan jumlah barang: 10\n",
            "\n",
            "===== Struk Belanja =====\n",
            "Barang: pulpen\n",
            "Harga: 5000.0\n",
            "Jumlah: 10\n",
            "Total: 50000.0\n",
            "Diskon: 0%\n",
            "bayar : Rp 50000.0\n"
          ]
        }
      ]
    },
    {
      "cell_type": "markdown",
      "source": [
        "# **PENUGASAN**"
      ],
      "metadata": {
        "id": "pDsdPGlu31yq"
      }
    },
    {
      "cell_type": "markdown",
      "source": [
        "**1.Cek Bilangan Positif/Negatif/Nol**"
      ],
      "metadata": {
        "id": "8F6LO7LQ37Lt"
      }
    },
    {
      "cell_type": "code",
      "source": [
        "bilangan = int(input(\"Masukkan bilangan: \"))\n",
        "\n",
        "if bilangan >= 1:\n",
        "  print(\"Bilangan Positif\")\n",
        "elif bilangan == 0:\n",
        "  print(\"Bilangan Nol\")\n",
        "else:\n",
        "  print(\"Bilangan Negatif\")"
      ],
      "metadata": {
        "colab": {
          "base_uri": "https://localhost:8080/"
        },
        "id": "v2Ja4PyQ4CFX",
        "outputId": "7650244e-e51c-4a67-ebcd-9df9c8027a0f"
      },
      "execution_count": null,
      "outputs": [
        {
          "output_type": "stream",
          "name": "stdout",
          "text": [
            "Masukkan bilangan: -1\n",
            "Bilangan Negatif\n"
          ]
        }
      ]
    },
    {
      "cell_type": "markdown",
      "source": [
        "**2. Menentukan Kategori Usia**"
      ],
      "metadata": {
        "id": "lf809DVu4C5_"
      }
    },
    {
      "cell_type": "code",
      "source": [
        "usia = int(input(\"masukkan usia: \"))\n",
        "\n",
        "if usia <= 5:\n",
        "  kategori = \"balita\"\n",
        "elif 5 <= usia <= 11:\n",
        "  kategori = \"anak-anak\"\n",
        "elif 12 <= umur <= 17:\n",
        "  kategori = \"remaja\"\n",
        "elif 18 <= umur <= 59:\n",
        "  kategori = \"dewasa\"\n",
        "else:\n",
        "  kategori = \"lansia\"\n",
        "print(f\"usia anda {usia}, maka kategori usia anda = {kategori}\")"
      ],
      "metadata": {
        "colab": {
          "base_uri": "https://localhost:8080/"
        },
        "id": "6eV2bHmE4DRK",
        "outputId": "4c8cc13a-a300-4e2e-80cf-48abc1546cff"
      },
      "execution_count": null,
      "outputs": [
        {
          "output_type": "stream",
          "name": "stdout",
          "text": [
            "masukkan usia: 2\n",
            "usia anda 2, maka kategori usia anda = balita\n"
          ]
        }
      ]
    },
    {
      "cell_type": "markdown",
      "source": [
        "**3. Hitung tarif parkir**"
      ],
      "metadata": {
        "id": "fZS_IKOq4Kkx"
      }
    },
    {
      "cell_type": "code",
      "source": [
        "jam_parkir = int(input(\"Masukkan lama parkir (dalam jam): \"))\n",
        "\n",
        "if jam_parkir <= 2:\n",
        "    tarif = 5000\n",
        "elif jam_parkir > 2:\n",
        "    tarif = 5000 + (jam_parkir - 2) * 2000\n",
        "\n",
        "if tarif > 20000:\n",
        "    tarif = 20000\n",
        "\n",
        "print(f\"Lama parkir: {jam_parkir} jam\")\n",
        "print(f\"Tarif parkir: Rp {tarif}\")"
      ],
      "metadata": {
        "id": "HX585GTL4KyQ"
      },
      "execution_count": null,
      "outputs": []
    },
    {
      "cell_type": "markdown",
      "source": [
        "**4. cek login sederhana**"
      ],
      "metadata": {
        "id": "OT5W8zyu4LFp"
      }
    },
    {
      "cell_type": "code",
      "source": [
        "Username = input(\"masukkan username anda: \")\n",
        "sandi = int(input(\"masukkan sandi anda: \"))\n",
        "\n",
        "if sandi == 12344:\n",
        "  print(\"login berhasil\")\n",
        "else:\n",
        "  print(\"login gagal\")"
      ],
      "metadata": {
        "id": "2hLRLKOs4LUD",
        "colab": {
          "base_uri": "https://localhost:8080/"
        },
        "outputId": "d23dc16a-a4b8-4b17-da12-8afe6908ff2d"
      },
      "execution_count": 5,
      "outputs": [
        {
          "output_type": "stream",
          "name": "stdout",
          "text": [
            "masukkan username anda: kok\n",
            "masukkan sandi anda: 12344\n",
            "login berhasil\n"
          ]
        }
      ]
    },
    {
      "cell_type": "markdown",
      "source": [
        "**4.\tOne-Liner If (Cek Genap/Ganjil)**"
      ],
      "metadata": {
        "id": "ZVtzKEzc4LiK"
      }
    },
    {
      "cell_type": "code",
      "source": [
        "bilangan = int(input(\"Masukkan sebuah angka: \"))\n",
        "\n",
        "if bilangan % 2 == 0:\n",
        "  print(\"Bilangan genap\")\n",
        "else:\n",
        "  print(\"Bilangan ganjil\")"
      ],
      "metadata": {
        "colab": {
          "base_uri": "https://localhost:8080/"
        },
        "id": "Yo_sv3MNW32j",
        "outputId": "227097c9-ad16-456f-fa6f-137b2441b45b"
      },
      "execution_count": 6,
      "outputs": [
        {
          "output_type": "stream",
          "name": "stdout",
          "text": [
            "Masukkan sebuah angka: 10\n",
            "Bilangan genap\n"
          ]
        }
      ]
    },
    {
      "cell_type": "markdown",
      "source": [
        "**5.Menu Restoran dengan Match-Case**"
      ],
      "metadata": {
        "id": "9OI4rZvB4L9Y"
      }
    },
    {
      "cell_type": "code",
      "source": [
        "menu = int(input(\"pilih menu (1-3): \"))\n",
        "\n",
        "match menu:\n",
        "  case 1:\n",
        "    print(\"anda memilih menu nasi goreng\")\n",
        "  case 2:\n",
        "    print(\"anda memilih menu mie ayam\")\n",
        "  case 3:\n",
        "    print(\"anda memilih menu soto ayam\")\n",
        "  case _:\n",
        "    print(\"menu tidak tersedia\")"
      ],
      "metadata": {
        "id": "IqpCrBt44MJ9",
        "colab": {
          "base_uri": "https://localhost:8080/"
        },
        "outputId": "5a27ee44-f1aa-4812-99e9-ebb57094fbd6"
      },
      "execution_count": 7,
      "outputs": [
        {
          "output_type": "stream",
          "name": "stdout",
          "text": [
            "pilih menu (1-3): 6\n",
            "menu tidak tersedia\n"
          ]
        }
      ]
    },
    {
      "cell_type": "markdown",
      "source": [
        "**6.Studi Kasus Nyata – Program Penentuan Diskon**"
      ],
      "metadata": {
        "id": "YK_PrDWn4OQB"
      }
    },
    {
      "cell_type": "code",
      "source": [
        "barang = input(\"Masukkan nama barang: \")\n",
        "harga = float(input(\"Masukkan harga barang: \"))\n",
        "jumlah = int(input(\"Masukkan jumlah barang: \"))\n",
        "\n",
        "total = harga * jumlah\n",
        "\n",
        "if total>= 500000:\n",
        "  diskon = 0.2\n",
        "elif total >= 250000:\n",
        "  diskon = 0.1\n",
        "else:\n",
        "  diskon = 0\n",
        "\n",
        "bayar = total - (total * diskon)\n",
        "\n",
        "print(\"\\n===== Struk Belanja =====\")\n",
        "print(f\"Barang: {barang}\")\n",
        "print(f\"Harga: {harga}\")\n",
        "print(f\"Jumlah: {jumlah}\")\n",
        "print(f\"Total: {total}\")\n",
        "print(f\"Diskon: {diskon * 100}%\")\n",
        "print(f\"bayar : Rp {bayar}\")"
      ],
      "metadata": {
        "id": "jIXWUUxe4Op3",
        "colab": {
          "base_uri": "https://localhost:8080/"
        },
        "outputId": "d8956a10-0df2-4356-8977-062c4926cd89"
      },
      "execution_count": 8,
      "outputs": [
        {
          "output_type": "stream",
          "name": "stdout",
          "text": [
            "Masukkan nama barang: ROSEBRAND\n",
            "Masukkan harga barang: 23000\n",
            "Masukkan jumlah barang: 10\n",
            "\n",
            "===== Struk Belanja =====\n",
            "Barang: ROSEBRAND\n",
            "Harga: 23000.0\n",
            "Jumlah: 10\n",
            "Total: 230000.0\n",
            "Diskon: 0%\n",
            "bayar : Rp 230000.0\n"
          ]
        }
      ]
    }
  ]
}