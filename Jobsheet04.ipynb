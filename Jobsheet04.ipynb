{
  "nbformat": 4,
  "nbformat_minor": 0,
  "metadata": {
    "colab": {
      "provenance": [],
      "authorship_tag": "ABX9TyOAUhZuSFZ8dbdPm3p1ISTh",
      "include_colab_link": true
    },
    "kernelspec": {
      "name": "python3",
      "display_name": "Python 3"
    },
    "language_info": {
      "name": "python"
    }
  },
  "cells": [
    {
      "cell_type": "markdown",
      "metadata": {
        "id": "view-in-github",
        "colab_type": "text"
      },
      "source": [
        "<a href=\"https://colab.research.google.com/github/Adriandzidan/Tugas-Pak-Prayit-ALPRO-/blob/main/Jobsheet04.ipynb\" target=\"_parent\"><img src=\"https://colab.research.google.com/assets/colab-badge.svg\" alt=\"Open In Colab\"/></a>"
      ]
    },
    {
      "cell_type": "markdown",
      "source": [
        "# **PRAKTIKUM**"
      ],
      "metadata": {
        "id": "cP8LX3Jr1H_q"
      }
    },
    {
      "cell_type": "markdown",
      "source": [
        "**1. For dengan Range**"
      ],
      "metadata": {
        "id": "PtJMYRqR1Hkd"
      }
    },
    {
      "cell_type": "code",
      "execution_count": null,
      "metadata": {
        "colab": {
          "base_uri": "https://localhost:8080/"
        },
        "id": "MMmVT9w-1CPL",
        "outputId": "f3794140-e185-4249-a39c-d951fed48bd0"
      },
      "outputs": [
        {
          "output_type": "stream",
          "name": "stdout",
          "text": [
            "1\n",
            "2\n",
            "3\n",
            "4\n"
          ]
        }
      ],
      "source": [
        "for i in range(1, 5):\n",
        "  print(i)"
      ]
    },
    {
      "cell_type": "markdown",
      "source": [
        "**2. While (Hitung\n",
        "Mundur)**"
      ],
      "metadata": {
        "id": "jyuKKovo2yb4"
      }
    },
    {
      "cell_type": "code",
      "source": [
        "n = int(input(\"masukkan angka: \"))\n",
        "while n > 0:\n",
        "  print(n)\n",
        "  n -= 5\n"
      ],
      "metadata": {
        "colab": {
          "base_uri": "https://localhost:8080/"
        },
        "id": "9qQdE-W92yv5",
        "outputId": "5dd69f38-e0ba-4aae-b231-8f8578c6b4ad"
      },
      "execution_count": null,
      "outputs": [
        {
          "output_type": "stream",
          "name": "stdout",
          "text": [
            "masukkan angka: 30\n",
            "30\n",
            "25\n",
            "20\n",
            "15\n",
            "10\n",
            "5\n"
          ]
        }
      ]
    },
    {
      "cell_type": "markdown",
      "source": [
        "**3. Nested Loop (Segitiga Bintang)**"
      ],
      "metadata": {
        "id": "JR03Kx8q4VEk"
      }
    },
    {
      "cell_type": "code",
      "source": [
        "for i in range (1, 5):\n",
        "  for j in range (i):\n",
        "    print (\"*\", end=\"\")\n",
        "  print()\n"
      ],
      "metadata": {
        "colab": {
          "base_uri": "https://localhost:8080/"
        },
        "id": "7HYYi_oE4VZY",
        "outputId": "06a58c71-7ebf-4a3f-eab6-3e53dc6013b4"
      },
      "execution_count": null,
      "outputs": [
        {
          "output_type": "stream",
          "name": "stdout",
          "text": [
            "*\n",
            "**\n",
            "***\n",
            "****\n"
          ]
        }
      ]
    },
    {
      "cell_type": "markdown",
      "source": [
        "**4.1 Break**"
      ],
      "metadata": {
        "id": "wPZ_npsB6tsj"
      }
    },
    {
      "cell_type": "code",
      "source": [
        "for i in range (1,10 ):\n",
        "  if i == 9  :\n",
        "    print(\"Angka 9 ditemukan\")\n",
        "    break"
      ],
      "metadata": {
        "colab": {
          "base_uri": "https://localhost:8080/"
        },
        "id": "xZtN1NeA6mCr",
        "outputId": "2587be39-1805-4287-fb66-d41f8e1419f9"
      },
      "execution_count": null,
      "outputs": [
        {
          "output_type": "stream",
          "name": "stdout",
          "text": [
            "Angka 9 ditemukan\n"
          ]
        }
      ]
    },
    {
      "cell_type": "markdown",
      "source": [
        "**4.2 Continue**"
      ],
      "metadata": {
        "id": "xL9vDgK48CiW"
      }
    },
    {
      "cell_type": "code",
      "source": [
        "for i in range (1, 5):\n",
        "  if i % 2 == 1:\n",
        "    continue\n",
        "  print(i)"
      ],
      "metadata": {
        "colab": {
          "base_uri": "https://localhost:8080/"
        },
        "id": "SoMxwtny8T8F",
        "outputId": "f66a7708-c3e0-4bc5-e213-16e2f3e421b7"
      },
      "execution_count": null,
      "outputs": [
        {
          "output_type": "stream",
          "name": "stdout",
          "text": [
            "2\n",
            "4\n"
          ]
        }
      ]
    },
    {
      "cell_type": "markdown",
      "source": [
        "**5. For pada dictionary**"
      ],
      "metadata": {
        "id": "UruLdlmt89RH"
      }
    },
    {
      "cell_type": "code",
      "source": [
        "data = {\"Nama\": \"Andi\", \"Umur\": 20, \"Prodi\": \"TRK\"}\n",
        "for k, v in data.items():\n",
        "    print(k, \":\", v)"
      ],
      "metadata": {
        "colab": {
          "base_uri": "https://localhost:8080/"
        },
        "id": "ac6Z31Wv9Lqv",
        "outputId": "2c4005ed-219e-4861-97f2-ea5c3dc82206"
      },
      "execution_count": null,
      "outputs": [
        {
          "output_type": "stream",
          "name": "stdout",
          "text": [
            "Nama : Andi\n",
            "Umur : 20\n",
            "Prodi : TRK\n"
          ]
        }
      ]
    },
    {
      "cell_type": "markdown",
      "source": [
        "**6. For dengan Enumerate**"
      ],
      "metadata": {
        "id": "gNh4JpiL-N1j"
      }
    },
    {
      "cell_type": "code",
      "source": [
        "daftar = (\"andi\", \"budi\", \"cici\")\n",
        "for i, nama in enumerate(daftar, start=1):\n",
        "  print(i, nama)"
      ],
      "metadata": {
        "colab": {
          "base_uri": "https://localhost:8080/"
        },
        "id": "rd3oTmUF-X2Y",
        "outputId": "b76314f8-9ce6-4fec-8640-de22174cec02"
      },
      "execution_count": null,
      "outputs": [
        {
          "output_type": "stream",
          "name": "stdout",
          "text": [
            "1 andi\n",
            "2 budi\n",
            "3 cici\n"
          ]
        }
      ]
    },
    {
      "cell_type": "markdown",
      "source": [
        "**7.Program Kasir Multi-Item**"
      ],
      "metadata": {
        "id": "WY2c0IH-_WHS"
      }
    },
    {
      "cell_type": "code",
      "source": [
        "total = 0\n",
        "\n",
        "while True:\n",
        "  barang = input(\"masukkan nama barang(ketik 'selesai' untuk berhenti): \")\n",
        "  if barang.lower() == \"selesai\":\n",
        "    break\n",
        "  harga = float(input(f\"Masukkan harga {barang}: \"))\n",
        "  jumlah = int(input(f\"Masukkan jumlah {barang}: \"))\n",
        "  subtotal = harga * jumlah\n",
        "  total += subtotal\n",
        "\n",
        "print(\"\\n===== Struk Belanja =====\")\n",
        "print(f\"Total Belanja : Rp {total}\")"
      ],
      "metadata": {
        "colab": {
          "base_uri": "https://localhost:8080/"
        },
        "id": "eRG4NDqt_Wbw",
        "outputId": "29851e96-e576-4329-ee6a-bc1c31501b16"
      },
      "execution_count": null,
      "outputs": [
        {
          "output_type": "stream",
          "name": "stdout",
          "text": [
            "masukkan nama barang(ketik 'selesai' untuk berhenti): buku\n",
            "Masukkan harga buku: 50000\n",
            "Masukkan jumlah buku: 2\n",
            "masukkan nama barang(ketik 'selesai' untuk berhenti): pulpen\n",
            "Masukkan harga pulpen: 5000\n",
            "Masukkan jumlah pulpen: 3\n",
            "masukkan nama barang(ketik 'selesai' untuk berhenti): selesai\n",
            "\n",
            "===== Struk Belanja =====\n",
            "Total Belanja : Rp 115000.0\n"
          ]
        }
      ]
    },
    {
      "cell_type": "markdown",
      "source": [
        "# **PENUGASAN**"
      ],
      "metadata": {
        "id": "Rw6lNqPLB4h9"
      }
    },
    {
      "cell_type": "markdown",
      "source": [
        "**1. Menampilkan deret angka**"
      ],
      "metadata": {
        "id": "i6Y8QYRKB4lX"
      }
    },
    {
      "cell_type": "code",
      "source": [
        "for i in range (3, 30):\n",
        " step = 3\n",
        " if i % step == 0:\n",
        "  print(i)"
      ],
      "metadata": {
        "colab": {
          "base_uri": "https://localhost:8080/"
        },
        "id": "wN0cUwH1C6dc",
        "outputId": "e8353dbc-fc24-4807-b2db-27c572603bf8"
      },
      "execution_count": null,
      "outputs": [
        {
          "output_type": "stream",
          "name": "stdout",
          "text": [
            "3\n",
            "6\n",
            "9\n",
            "12\n",
            "15\n",
            "18\n",
            "21\n",
            "24\n",
            "27\n"
          ]
        }
      ]
    },
    {
      "cell_type": "markdown",
      "source": [
        "**2.Hitung faktorial**"
      ],
      "metadata": {
        "id": "Y_MVO6ZIDa20"
      }
    },
    {
      "cell_type": "code",
      "metadata": {
        "colab": {
          "base_uri": "https://localhost:8080/"
        },
        "id": "8060d20b",
        "outputId": "a5be60be-d81d-4582-817f-d2c59393e384"
      },
      "source": [
        "n = int(input(\"Masukkan bilangan bulat positif: \"))\n",
        "faktorial = 1\n",
        "if n < 0:\n",
        "  print(\"Faktorial tidak terdefinisi untuk bilangan negatif\")\n",
        "elif n == 0:\n",
        "  print(\"Faktorial dari 0 adalah 1\")\n",
        "else:\n",
        "  i = 1\n",
        "  while i <= n:\n",
        "    faktorial *= i\n",
        "    i += 1\n",
        "  print(f\"Faktorial dari {n} adalah {faktorial}\")"
      ],
      "execution_count": null,
      "outputs": [
        {
          "output_type": "stream",
          "name": "stdout",
          "text": [
            "Masukkan bilangan bulat positif: 5\n",
            "Faktorial dari 5 adalah 120\n"
          ]
        }
      ]
    },
    {
      "cell_type": "markdown",
      "source": [
        "**3. Pola segitiga terbalik**"
      ],
      "metadata": {
        "id": "MV2bFO7KHRxb"
      }
    },
    {
      "cell_type": "code",
      "source": [
        "tinggi = int(input(\"Masukkan tinggi segitiga: \"))\n",
        "\n",
        "for i in range(tinggi, 0, -1):\n",
        "  for j in range(i):\n",
        "    print(\"*\", end=\"\")\n",
        "  print()"
      ],
      "metadata": {
        "colab": {
          "base_uri": "https://localhost:8080/"
        },
        "id": "ypGVFiUTHQvF",
        "outputId": "408a7ad6-e2d6-4aa6-e8ce-9383e1559c28"
      },
      "execution_count": null,
      "outputs": [
        {
          "output_type": "stream",
          "name": "stdout",
          "text": [
            "Masukkan tinggi segitiga: 5\n",
            "*****\n",
            "****\n",
            "***\n",
            "**\n",
            "*\n"
          ]
        }
      ]
    },
    {
      "cell_type": "markdown",
      "source": [
        "**4.Cari Bilangan Prima dengan Break**"
      ],
      "metadata": {
        "id": "lvaIgpV-Ik7h"
      }
    },
    {
      "cell_type": "code",
      "source": [
        "def is_prime(num):\n",
        "  if num <= 1:\n",
        "    return False\n",
        "  for i in range(2, int(num**0.5) + 1):\n",
        "    if num % i == 0:\n",
        "      return False\n",
        "      break # Break here as soon as a divisor is found\n",
        "  return True\n",
        "\n",
        "print(\"Bilangan prima antara 1 dan 50:\")\n",
        "for num in range(1, 51):\n",
        "  if is_prime(num):\n",
        "    print(num)"
      ],
      "metadata": {
        "id": "C2iZVPKCIlK0"
      },
      "execution_count": null,
      "outputs": []
    },
    {
      "cell_type": "markdown",
      "source": [
        "**5. Tampilkan Hanya Bilangan Genap dengan Continue**"
      ],
      "metadata": {
        "id": "KcrBFY6bKR1R"
      }
    },
    {
      "cell_type": "code",
      "source": [
        "for i in range(1, 21):\n",
        "  if i % 2 != 0:\n",
        "    continue\n",
        "  print(i)"
      ],
      "metadata": {
        "id": "owXJwEwzKQ7w",
        "colab": {
          "base_uri": "https://localhost:8080/"
        },
        "outputId": "fd6b0327-469f-40ab-cfc0-d99bf1354d12"
      },
      "execution_count": 3,
      "outputs": [
        {
          "output_type": "stream",
          "name": "stdout",
          "text": [
            "2\n",
            "4\n",
            "6\n",
            "8\n",
            "10\n",
            "12\n",
            "14\n",
            "16\n",
            "18\n",
            "20\n"
          ]
        }
      ]
    },
    {
      "cell_type": "markdown",
      "source": [
        "**6.Iterasi Dictionary Mahasiswa**"
      ],
      "metadata": {
        "id": "PiWyQSxLKeRs"
      }
    },
    {
      "cell_type": "code",
      "source": [
        "data = {\"Nama\": \"Budi\", \"Umur\": 21, \"Prodi\": \"Teknik Komputer\"}\n",
        "for k, v in data.items():\n",
        "    print(k, \":\", v)"
      ],
      "metadata": {
        "colab": {
          "base_uri": "https://localhost:8080/"
        },
        "id": "iM8MYkI2Kej9",
        "outputId": "c43c2d9a-d2a5-4c5e-b7cd-8a80e314cde6"
      },
      "execution_count": null,
      "outputs": [
        {
          "output_type": "stream",
          "name": "stdout",
          "text": [
            "Nama : Budi\n",
            "Umur : 21\n",
            "Prodi : Teknik Komputer\n"
          ]
        }
      ]
    },
    {
      "cell_type": "markdown",
      "source": [
        "**7.Enumerate Daftar Barang**"
      ],
      "metadata": {
        "id": "yCdXvUo0Kezz"
      }
    },
    {
      "cell_type": "code",
      "source": [
        "Barang = (\"Buku\", \"Pulpen\", \"Tas\")\n",
        "for i, nama in enumerate(Barang, start=1):\n",
        "  print(i, nama)"
      ],
      "metadata": {
        "colab": {
          "base_uri": "https://localhost:8080/"
        },
        "id": "9VNlDRFiKfJf",
        "outputId": "e3efff93-f131-4aea-be3d-9e4eb0c7a8ba"
      },
      "execution_count": null,
      "outputs": [
        {
          "output_type": "stream",
          "name": "stdout",
          "text": [
            "1 Buku\n",
            "2 Pulpen\n",
            "3 Tas\n"
          ]
        }
      ]
    },
    {
      "cell_type": "markdown",
      "source": [
        "**8.Studi Kasus – Kasir Diskon**"
      ],
      "metadata": {
        "id": "hYDPfw3KKfZC"
      }
    },
    {
      "cell_type": "code",
      "source": [
        "total = 0\n",
        "diskon_total = 0\n",
        "\n",
        "while True:\n",
        "  barang = input(\"masukkan nama barang(ketik 'selesai' untuk berhenti): \")\n",
        "  if barang.lower() == \"selesai\":\n",
        "    break\n",
        "  harga = float(input(f\"Masukkan harga {barang}: \"))\n",
        "  jumlah = int(input(f\"Masukkan jumlah {barang}: \"))\n",
        "  subtotal = harga * jumlah\n",
        "  total += subtotal\n",
        "\n",
        "  diskon_item = 0\n",
        "  if subtotal >= 200000:\n",
        "    diskon_item = subtotal * 0.1\n",
        "  diskon_total += diskon_item\n",
        "\n",
        "\n",
        "print(\"\\n===== Struk Belanja =====\")\n",
        "print(f\"Total Belanja sebelum diskon: Rp {total}\")\n",
        "print(f\"Total Diskon: Rp {diskon_total}\")\n",
        "print(f\"Total Bayar: Rp {total - diskon_total}\")"
      ],
      "metadata": {
        "colab": {
          "base_uri": "https://localhost:8080/"
        },
        "id": "ulMEorozKfpX",
        "outputId": "3b18947a-cafe-4c04-d3a0-6a8a84fe1955"
      },
      "execution_count": null,
      "outputs": [
        {
          "output_type": "stream",
          "name": "stdout",
          "text": [
            "masukkan nama barang(ketik 'selesai' untuk berhenti): lele dumbo\n",
            "Masukkan harga lele dumbo: 1234567\n",
            "Masukkan jumlah lele dumbo: 1\n",
            "masukkan nama barang(ketik 'selesai' untuk berhenti): selesai\n",
            "\n",
            "===== Struk Belanja =====\n",
            "Total Belanja sebelum diskon: Rp 1234567.0\n",
            "Total Diskon: Rp 123456.70000000001\n",
            "Total Bayar: Rp 1111110.3\n"
          ]
        }
      ]
    }
  ]
}