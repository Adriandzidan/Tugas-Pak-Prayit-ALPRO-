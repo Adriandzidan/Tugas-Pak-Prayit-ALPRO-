{
  "nbformat": 4,
  "nbformat_minor": 0,
  "metadata": {
    "colab": {
      "provenance": [],
      "authorship_tag": "ABX9TyO5gJ1Y8g0Bs084fQC3fIGk",
      "include_colab_link": true
    },
    "kernelspec": {
      "name": "python3",
      "display_name": "Python 3"
    },
    "language_info": {
      "name": "python"
    }
  },
  "cells": [
    {
      "cell_type": "markdown",
      "metadata": {
        "id": "view-in-github",
        "colab_type": "text"
      },
      "source": [
        "<a href=\"https://colab.research.google.com/github/Adriandzidan/Tugas-Pak-Prayit-ALPRO-/blob/main/Jobsheet05.ipynb\" target=\"_parent\"><img src=\"https://colab.research.google.com/assets/colab-badge.svg\" alt=\"Open In Colab\"/></a>"
      ]
    },
    {
      "cell_type": "markdown",
      "source": [
        "# **HASIl PRAKTIKUM**"
      ],
      "metadata": {
        "id": "oOqzbbDNYtgf"
      }
    },
    {
      "cell_type": "markdown",
      "source": [
        "**1.Indexing dan Slicing**"
      ],
      "metadata": {
        "id": "oZbWYRQaYt9C"
      }
    },
    {
      "cell_type": "code",
      "execution_count": null,
      "metadata": {
        "colab": {
          "base_uri": "https://localhost:8080/"
        },
        "id": "mulEG04XYmvG",
        "outputId": "9505b70c-37c7-4725-87d0-1286eca4e354"
      },
      "outputs": [
        {
          "output_type": "stream",
          "name": "stdout",
          "text": [
            "Politeknik\n",
            "Negeri \n",
            "Semarang\n"
          ]
        }
      ],
      "source": [
        "teks = \"Politeknik Negeri Semarang\"\n",
        "print(teks[0:10]) # 'Politeknik'\n",
        "print(teks[11:18]) # 'Negeri'\n",
        "print(teks[-8:]) # 'semarang'\n"
      ]
    },
    {
      "cell_type": "markdown",
      "source": [
        "**2.Method Bawaan String**"
      ],
      "metadata": {
        "id": "Au300PNablCC"
      }
    },
    {
      "cell_type": "code",
      "source": [
        "teks = \"Politeknik Negeri Semarang\"\n",
        "print (teks.strip())\n",
        "print (teks.lower())\n",
        "print (teks.upper())\n",
        "print (teks.title())\n",
        "print (teks.split())\n",
        "print (\"-\". join([\"Politeknik\", \"Negeri\", \"Semarang\"]))"
      ],
      "metadata": {
        "colab": {
          "base_uri": "https://localhost:8080/"
        },
        "id": "T369eYC1fGlM",
        "outputId": "d1033345-3bf8-4531-fb2c-255968349e9d"
      },
      "execution_count": null,
      "outputs": [
        {
          "output_type": "stream",
          "name": "stdout",
          "text": [
            "Politeknik Negeri Semarang\n",
            "politeknik negeri semarang\n",
            "POLITEKNIK NEGERI SEMARANG\n",
            "Politeknik Negeri Semarang\n",
            "['Politeknik', 'Negeri', 'Semarang']\n",
            "Politeknik-Negeri-Semarang\n"
          ]
        }
      ]
    },
    {
      "cell_type": "markdown",
      "source": [
        "**3.Validasi Password**"
      ],
      "metadata": {
        "id": "F51PaGMaieU4"
      }
    },
    {
      "cell_type": "code",
      "source": [
        "password = input(\"Masukkan password: \")\n",
        "\n",
        "if len(password) >= 8:\n",
        "  print(\"Password valid\")\n",
        "else:\n",
        "  print(\"Passsword terlalu pendek\")"
      ],
      "metadata": {
        "id": "YvTOgoNVblUt",
        "colab": {
          "base_uri": "https://localhost:8080/"
        },
        "outputId": "4a537e08-b691-46fe-ee1b-d26240d793d4"
      },
      "execution_count": null,
      "outputs": [
        {
          "output_type": "stream",
          "name": "stdout",
          "text": [
            "Masukkan password: abc\n",
            "Passsword terlalu pendek\n"
          ]
        }
      ]
    },
    {
      "cell_type": "markdown",
      "source": [
        "**4.String Formatting dengan F- String**"
      ],
      "metadata": {
        "id": "54XWZhd3mGMX"
      }
    },
    {
      "cell_type": "code",
      "source": [
        "nama = input(\"masukkan Nama anda: \")\n",
        "Umur = input (\"Masukkan Umur anda: \")\n",
        "\n",
        "print(f\"Nama saya {nama}, Umur {Umur} tahun.\")"
      ],
      "metadata": {
        "colab": {
          "base_uri": "https://localhost:8080/"
        },
        "id": "WbULpkcomGaZ",
        "outputId": "983b1c8b-0865-4c0f-c3e9-0af629fc2ba6"
      },
      "execution_count": null,
      "outputs": [
        {
          "output_type": "stream",
          "name": "stdout",
          "text": [
            "masukkan Nama anda: budi\n",
            "Masukkan Umur anda: 21\\\n",
            "Nama saya budi, Umur 21\\ tahun.\n"
          ]
        }
      ]
    },
    {
      "cell_type": "markdown",
      "source": [
        "**5.Operasi dalam F-String**"
      ],
      "metadata": {
        "id": "gZK2OP1LmMyp"
      }
    },
    {
      "cell_type": "code",
      "source": [
        "a = int(input(\"masukkan nilai a: \"))\n",
        "b = int(input(\"masukkan nilai b: \"))\n",
        "print(f\"Hasil penjumlahan {a} + {b} = {a+b}\")\n",
        "print(f\"Hasil pembagian {a}/{b} = {a/b :.2f}\")"
      ],
      "metadata": {
        "colab": {
          "base_uri": "https://localhost:8080/"
        },
        "id": "yVcAgVd2mNHQ",
        "outputId": "54f05591-a23c-488b-95a5-72077f048adc"
      },
      "execution_count": null,
      "outputs": [
        {
          "output_type": "stream",
          "name": "stdout",
          "text": [
            "masukkan nilai a: 10\n",
            "masukkan nilai b: 3\n",
            "Hasil penjumlahan 10 + 3 = 13\n",
            "Hasil pembagian 10/3 = 3.33\n"
          ]
        }
      ]
    },
    {
      "cell_type": "markdown",
      "source": [
        "**6.Casting String**"
      ],
      "metadata": {
        "id": "xqQgaWqLmNW9"
      }
    },
    {
      "cell_type": "code",
      "source": [
        "angka = 123\n",
        "teks = \"456\"\n",
        "\n",
        "print(\"Nilai:\" +str(angka))\n",
        "print(int(teks)+10)"
      ],
      "metadata": {
        "colab": {
          "base_uri": "https://localhost:8080/"
        },
        "id": "GlQ1rkAVtGu_",
        "outputId": "6eaf1d2a-0604-407e-937d-164de838e350"
      },
      "execution_count": null,
      "outputs": [
        {
          "output_type": "stream",
          "name": "stdout",
          "text": [
            "Nilai:123\n",
            "466\n"
          ]
        }
      ]
    },
    {
      "cell_type": "markdown",
      "source": [
        "**7.Studi Kasus: Analisis Kalimat**"
      ],
      "metadata": {
        "id": "ghuTFpfAmN00"
      }
    },
    {
      "cell_type": "code",
      "source": [
        "kalimat = \"saya kuliah di Politeknik Negeri Semarang\"\n",
        "daftar_kata = kalimat.split(\" \")\n",
        "\n",
        "print(f\"Jumlah kata: {len(daftar_kata)}\")\n",
        "for i, kata in enumerate (daftar_kata, start=1):\n",
        "  print(i, kata)"
      ],
      "metadata": {
        "colab": {
          "base_uri": "https://localhost:8080/"
        },
        "id": "ZYLCy8e9mODo",
        "outputId": "f6201de9-f313-42a6-c5ef-1eadf161b830"
      },
      "execution_count": null,
      "outputs": [
        {
          "output_type": "stream",
          "name": "stdout",
          "text": [
            "Jumlah kata: 6\n",
            "1 saya\n",
            "2 kuliah\n",
            "3 di\n",
            "4 Politeknik\n",
            "5 Negeri\n",
            "6 Semarang\n"
          ]
        }
      ]
    },
    {
      "cell_type": "markdown",
      "source": [
        "# **PENUGASAN**"
      ],
      "metadata": {
        "id": "Y8HH87A_wpOS"
      }
    },
    {
      "cell_type": "markdown",
      "source": [
        "**1.\tIndexing dan Slicing**"
      ],
      "metadata": {
        "id": "P1txm2J-wput"
      }
    },
    {
      "cell_type": "code",
      "source": [
        "teks = \"Politeknik Negeri Semarang\"\n",
        "print(teks[0]) # 'P'\n",
        "print(teks[25]) # 'g'\n",
        "print(teks[11:17]) # 'Negeri'"
      ],
      "metadata": {
        "colab": {
          "base_uri": "https://localhost:8080/"
        },
        "id": "c5iij-mDw0Qi",
        "outputId": "0fe5febb-ad4a-4bb4-aee3-ac630262f2de"
      },
      "execution_count": null,
      "outputs": [
        {
          "output_type": "stream",
          "name": "stdout",
          "text": [
            "P\n",
            "g\n",
            "Negeri\n"
          ]
        }
      ]
    },
    {
      "cell_type": "markdown",
      "source": [
        "**2.\tManipulasi String**"
      ],
      "metadata": {
        "id": "e78bsp4vxrxY"
      }
    },
    {
      "cell_type": "code",
      "source": [
        "teks = \"Belajar AlPro sangat asyik\"\n",
        "print (teks.upper())\n",
        "print (teks.lower())\n",
        "print (len(teks))"
      ],
      "metadata": {
        "id": "D-A6dwV4xsBi",
        "colab": {
          "base_uri": "https://localhost:8080/"
        },
        "outputId": "8fb153da-ebd3-4769-aea0-195e944c02f9"
      },
      "execution_count": 61,
      "outputs": [
        {
          "output_type": "stream",
          "name": "stdout",
          "text": [
            "BELAJAR ALPRO SANGAT ASYIK\n",
            "belajar alpro sangat asyik\n",
            "26\n"
          ]
        }
      ]
    },
    {
      "cell_type": "markdown",
      "source": [
        "**3.\tValidasi Username**"
      ],
      "metadata": {
        "id": "9r0K9QJ9z6xK"
      }
    },
    {
      "cell_type": "code",
      "source": [
        "Username = input(\"Masukkan Username anda: \")\n",
        "\n",
        "if \" \" in Username:\n",
        "  print(\"ERROR\")\n",
        "else:\n",
        "  print(\"Username valid\")"
      ],
      "metadata": {
        "colab": {
          "base_uri": "https://localhost:8080/"
        },
        "id": "Ny4cQd2iz7CI",
        "outputId": "5701ae09-33eb-44a4-bb1d-08f0c5638f25"
      },
      "execution_count": null,
      "outputs": [
        {
          "output_type": "stream",
          "name": "stdout",
          "text": [
            "Masukkan Username anda: LELE DUMBO\n",
            "ERROR\n"
          ]
        }
      ]
    },
    {
      "cell_type": "markdown",
      "source": [
        "**4.\tString Formatting dengan F-String**"
      ],
      "metadata": {
        "id": "a6zD71G71_DS"
      }
    },
    {
      "cell_type": "code",
      "source": [
        "nama = input(\"Masukkan Nama anda: \")\n",
        "umur = input(\"Masukkan Umur anda: \")\n",
        "jurusan = input(\"Masukkan Jurusan anda: \")\n",
        "print(f\"NAMA: {nama}.\")\n",
        "print(f\"Umur: {umur}.\")\n",
        "print(f\"Jurusan: {jurusan}.\")"
      ],
      "metadata": {
        "id": "7RjKjGdZ1_Tb",
        "colab": {
          "base_uri": "https://localhost:8080/"
        },
        "outputId": "8ad89f80-c70d-48df-abfc-1f53575b918b"
      },
      "execution_count": 64,
      "outputs": [
        {
          "output_type": "stream",
          "name": "stdout",
          "text": [
            "Masukkan Nama anda: Dumbo\n",
            "Masukkan Umur anda: 35\n",
            "Masukkan Jurusan anda: Teknik Mesin\n",
            "NAMA: Dumbo.\n",
            "Umur: 35.\n",
            "Jurusan: Teknik Mesin.\n"
          ]
        }
      ]
    },
    {
      "cell_type": "markdown",
      "source": [
        "**5.Operasi dalam F-String**"
      ],
      "metadata": {
        "id": "gZ7reQY5-R5T"
      }
    },
    {
      "cell_type": "code",
      "source": [
        "a = int(input(\"MAsukkan nilai a: \"))\n",
        "b = int(input(\"Masukkan nilai b: \"))\n",
        "\n",
        "print(f\"Hasil penjumlahan {a} + {b} = {a+b}\")\n",
        "print (f\"Hasil perkalian {a} * {b} = {a*b}\")\n",
        "print (f\"Hasil pembagian {a}/{b} = {a/b :.3f}\")"
      ],
      "metadata": {
        "colab": {
          "base_uri": "https://localhost:8080/"
        },
        "id": "eGo7Z-a0-SHY",
        "outputId": "a2f67308-9c7d-480b-cbfd-11c42eaed1ce"
      },
      "execution_count": 65,
      "outputs": [
        {
          "output_type": "stream",
          "name": "stdout",
          "text": [
            "MAsukkan nilai a: 12\n",
            "Masukkan nilai b: 15\n",
            "Hasil penjumlahan 12 + 15 = 27\n",
            "Hasil perkalian 12 * 15 = 180\n",
            "Hasil pembagian 12/15 = 0.800\n"
          ]
        }
      ]
    },
    {
      "cell_type": "markdown",
      "source": [
        "**6.\tCasting Data**"
      ],
      "metadata": {
        "id": "IOSD05mW_qmA"
      }
    },
    {
      "cell_type": "code",
      "source": [
        "angka_string = input(\"Masukkan sebuah angka: \")\n",
        "\n",
        "try:\n",
        "    angka_integer = int(angka_string)\n",
        "\n",
        "    hasil_kuadrat = angka_integer ** 2\n",
        "    print(f\"Bentuk integer: {angka_integer}\")\n",
        "    print(f\"Hasil kuadrat: {hasil_kuadrat}\")\n",
        "\n",
        "    angka_float = float(angka_string)\n",
        "\n",
        "    print(f\"Bentuk float (2 desimal): {angka_float:.2f}\")\n",
        "\n",
        "except ValueError:\n",
        "    print(f\"Error: '{angka_string}' bukan input angka yang valid.\")\n"
      ],
      "metadata": {
        "colab": {
          "base_uri": "https://localhost:8080/"
        },
        "id": "XWvrNIJ-_qzR",
        "outputId": "10f9bdf2-8d47-4fb2-ff95-2a80cbbbd186"
      },
      "execution_count": 66,
      "outputs": [
        {
          "output_type": "stream",
          "name": "stdout",
          "text": [
            "Masukkan sebuah angka: 12\n",
            "Bentuk integer: 12\n",
            "Hasil kuadrat: 144\n",
            "Bentuk float (2 desimal): 12.00\n"
          ]
        }
      ]
    },
    {
      "cell_type": "markdown",
      "source": [
        "**7.\tStudi Kasus – Analisis Teks**"
      ],
      "metadata": {
        "id": "HFBuEmpaB3eV"
      }
    },
    {
      "cell_type": "code",
      "source": [
        "kalimat = input(\"Masukkan sebuah kalimat: \")\n",
        "daftar_kata = kalimat.split()\n",
        "jumlah_kata = len(daftar_kata)\n",
        "print(f\"Jumlah kata: {jumlah_kata}\")\n",
        "kata_terpanjang = max(daftar_kata, key=len)\n",
        "print(f\"Kata terpanjang: {kata_terpanjang}\")\n",
        "kata_terurut = sorted(daftar_kata, key=str.lower)\n",
        "print(f\"Urutan kata (abjad): {' '.join(kata_terurut)}\")"
      ],
      "metadata": {
        "colab": {
          "base_uri": "https://localhost:8080/"
        },
        "id": "gh6XFRpPB3tD",
        "outputId": "66f4a5ab-c9f7-4153-dd95-8ea76614e1fc"
      },
      "execution_count": 70,
      "outputs": [
        {
          "output_type": "stream",
          "name": "stdout",
          "text": [
            "Masukkan sebuah kalimat: aku suka belajar di polines\n",
            "Jumlah kata: 5\n",
            "Kata terpanjang: belajar\n",
            "Urutan kata (abjad): aku belajar di polines suka\n"
          ]
        }
      ]
    }
  ]
}