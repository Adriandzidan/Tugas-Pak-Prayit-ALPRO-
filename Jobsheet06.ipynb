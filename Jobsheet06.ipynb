{
  "nbformat": 4,
  "nbformat_minor": 0,
  "metadata": {
    "colab": {
      "provenance": [],
      "authorship_tag": "ABX9TyPZlytAS9DlI2Erz02x+8Du",
      "include_colab_link": true
    },
    "kernelspec": {
      "name": "python3",
      "display_name": "Python 3"
    },
    "language_info": {
      "name": "python"
    }
  },
  "cells": [
    {
      "cell_type": "markdown",
      "metadata": {
        "id": "view-in-github",
        "colab_type": "text"
      },
      "source": [
        "<a href=\"https://colab.research.google.com/github/Adriandzidan/Tugas-Pak-Prayit-ALPRO-/blob/main/Jobsheet06.ipynb\" target=\"_parent\"><img src=\"https://colab.research.google.com/assets/colab-badge.svg\" alt=\"Open In Colab\"/></a>"
      ]
    },
    {
      "cell_type": "markdown",
      "source": [
        "# **HASIL PRAKTIKUM**"
      ],
      "metadata": {
        "id": "4Q--bDQCbcaX"
      }
    },
    {
      "cell_type": "markdown",
      "source": [
        "1. **Membuat dan Mengakses List 1D**"
      ],
      "metadata": {
        "id": "QZ4i_Kh3bdqJ"
      }
    },
    {
      "cell_type": "code",
      "execution_count": null,
      "metadata": {
        "id": "PCuGCpGmbWDN",
        "colab": {
          "base_uri": "https://localhost:8080/"
        },
        "outputId": "a813fe17-34aa-40fc-c0a5-353089cc8f11"
      },
      "outputs": [
        {
          "output_type": "stream",
          "name": "stdout",
          "text": [
            "ANDI\n",
            "BUDI\n",
            "CICI\n"
          ]
        }
      ],
      "source": [
        "mahasiswa = [\"ANDI\", \"BUDI\", \"CICI\"]\n",
        "print(mahasiswa[0])\n",
        "print(mahasiswa[1])\n",
        "print(mahasiswa[-1])"
      ]
    },
    {
      "cell_type": "markdown",
      "source": [
        "2. **Update & Operasi Dasar List**"
      ],
      "metadata": {
        "id": "31CtBk6tdhqw"
      }
    },
    {
      "cell_type": "code",
      "source": [
        "nilai = [85, 90, 78]\n",
        "nilai[1] = 95\n",
        "nilai.append(100)\n",
        "nilai.remove(78)\n",
        "print (nilai)"
      ],
      "metadata": {
        "colab": {
          "base_uri": "https://localhost:8080/"
        },
        "id": "zDso2aZVdiAu",
        "outputId": "14282ec6-2768-42c5-ff57-f79df80ec266"
      },
      "execution_count": null,
      "outputs": [
        {
          "output_type": "stream",
          "name": "stdout",
          "text": [
            "[85, 95, 100]\n"
          ]
        }
      ]
    },
    {
      "cell_type": "markdown",
      "source": [
        "3. **Slicing List**"
      ],
      "metadata": {
        "id": "N-s7MsLCedRx"
      }
    },
    {
      "cell_type": "code",
      "source": [
        "nilai = [85, 90, 78, 92, 88]\n",
        "print(nilai[0:3])\t# [85, 90, 78]\n",
        "print(nilai[2:])\t# [78, 92, 88]\n",
        "print(nilai[:3])\t# [85, 90, 78]\n"
      ],
      "metadata": {
        "colab": {
          "base_uri": "https://localhost:8080/"
        },
        "id": "kkx3pCYMedpx",
        "outputId": "14a92cf8-bb0a-4db7-aa4f-a6e7b924aef3"
      },
      "execution_count": null,
      "outputs": [
        {
          "output_type": "stream",
          "name": "stdout",
          "text": [
            "[85, 90, 78]\n",
            "[78, 92, 88]\n",
            "[85, 90, 78]\n"
          ]
        }
      ]
    },
    {
      "cell_type": "markdown",
      "source": [
        "4. **List 2D (Matriks)**"
      ],
      "metadata": {
        "id": "5Qs-ixwteqsK"
      }
    },
    {
      "cell_type": "code",
      "source": [
        "matriks = [\n",
        "    [1,2,3],\n",
        "    [4,5,6],\n",
        "    [7,8,9]\n",
        "]\n",
        "\n",
        "print (matriks[0][0])\n",
        "print (matriks[1] [2])\n",
        "print (matriks[2])"
      ],
      "metadata": {
        "colab": {
          "base_uri": "https://localhost:8080/"
        },
        "id": "28UOrLyveq7T",
        "outputId": "844003e2-ea76-4ce5-eee0-ce8081c64059"
      },
      "execution_count": null,
      "outputs": [
        {
          "output_type": "stream",
          "name": "stdout",
          "text": [
            "1\n",
            "6\n",
            "[7, 8, 9]\n"
          ]
        }
      ]
    },
    {
      "cell_type": "markdown",
      "source": [
        "5. **Operasi pada List 2D**"
      ],
      "metadata": {
        "id": "kmm-HCbqg7Ru"
      }
    },
    {
      "cell_type": "code",
      "source": [
        "A = [[1,2,3],[4,5,6]]\n",
        "B = [[7,8,9],[10,11,12]]\n",
        "C = []\n",
        "for i in range(len(A)):\n",
        "  baris = []\n",
        "  for j in range(len(A[0])):\n",
        "    baris.append(A[i][j] + B[i][j])\n",
        "    C.append(baris)\n",
        "print (C)"
      ],
      "metadata": {
        "colab": {
          "base_uri": "https://localhost:8080/"
        },
        "id": "w_bTq02jf9eY",
        "outputId": "24235cf5-ca80-43f8-8e13-63c75d38996d"
      },
      "execution_count": null,
      "outputs": [
        {
          "output_type": "stream",
          "name": "stdout",
          "text": [
            "[[8, 10, 12], [8, 10, 12], [8, 10, 12], [14, 16, 18], [14, 16, 18], [14, 16, 18]]\n"
          ]
        }
      ]
    },
    {
      "cell_type": "markdown",
      "source": [
        "6. **Studi Kasus: Pengelolaan Nilai Mahasiswa**"
      ],
      "metadata": {
        "id": "rEUwD0ouinb_"
      }
    },
    {
      "cell_type": "code",
      "source": [
        "nilai = [\n",
        "   [80,90,85],\n",
        "    [70,75,80],\n",
        "   [88,92,84]\n",
        "]\n",
        "\n",
        "for i, baris\tin enumerate(nilai, start=1):\n",
        "\trata = sum(baris) / len(baris)\n",
        "\tprint(f\"Rata-rata mahasiswa {i}: {rata:.2f}\")\n"
      ],
      "metadata": {
        "colab": {
          "base_uri": "https://localhost:8080/"
        },
        "id": "QTUkjDhyinsV",
        "outputId": "a246f54d-58bd-4e82-8fc5-da5c183d6e4d"
      },
      "execution_count": null,
      "outputs": [
        {
          "output_type": "stream",
          "name": "stdout",
          "text": [
            "Rata-rata mahasiswa 1: 85.00\n",
            "Rata-rata mahasiswa 2: 75.00\n",
            "Rata-rata mahasiswa 3: 88.00\n"
          ]
        }
      ]
    },
    {
      "cell_type": "markdown",
      "source": [
        "# **PENUGASAN**"
      ],
      "metadata": {
        "id": "fpJx0-2Bjnft"
      }
    },
    {
      "cell_type": "markdown",
      "source": [
        "1. **Akses Elemen List**"
      ],
      "metadata": {
        "id": "MJdveVYHjvm5"
      }
    },
    {
      "cell_type": "code",
      "source": [
        "mahasiswa = [\"ANDI\", \"BUDI\", \"CICI\", \"SIREGAR\", \"DUDI\", \"DUMBO\"]\n",
        "print(mahasiswa[0])\n",
        "print(mahasiswa[1])\n",
        "print(mahasiswa[2])\n",
        "print(mahasiswa[3])\n",
        "print(mahasiswa[4])\n",
        "print(mahasiswa[-1])"
      ],
      "metadata": {
        "colab": {
          "base_uri": "https://localhost:8080/"
        },
        "id": "9Q4DQ8jNkR3M",
        "outputId": "c453f7fa-3509-4cf1-d3fe-45eab46a26bd"
      },
      "execution_count": null,
      "outputs": [
        {
          "output_type": "stream",
          "name": "stdout",
          "text": [
            "ANDI\n",
            "BUDI\n",
            "CICI\n",
            "SIREGAR\n",
            "DUDI\n",
            "DUMBO\n"
          ]
        }
      ]
    },
    {
      "cell_type": "markdown",
      "source": [
        "2. **Operasi Pada List**"
      ],
      "metadata": {
        "id": "rmyd3s9HkQ3m"
      }
    },
    {
      "cell_type": "code",
      "source": [
        "nilai = [70, 75, 80]\n",
        "nilai[1] = 85\n",
        "nilai.append(90)\n",
        "nilai.remove(70)\n",
        "print (nilai)"
      ],
      "metadata": {
        "colab": {
          "base_uri": "https://localhost:8080/"
        },
        "id": "MN7JqjG4kRMl",
        "outputId": "a16c1449-e01f-44c3-a0f1-5c29d50c1eeb"
      },
      "execution_count": null,
      "outputs": [
        {
          "output_type": "stream",
          "name": "stdout",
          "text": [
            "[85, 80, 90]\n"
          ]
        }
      ]
    },
    {
      "cell_type": "markdown",
      "source": [
        "3. **Slicing List**"
      ],
      "metadata": {
        "id": "Srm6Z0zoGto6"
      }
    },
    {
      "cell_type": "code",
      "source": [
        "nilai = [1, 2, 3, 4, 5, 6, 7, 8, 9, 10]\n",
        "print(nilai[0:3])\n",
        "print(nilai[6:10])\n",
        "print(nilai[::2])"
      ],
      "metadata": {
        "colab": {
          "base_uri": "https://localhost:8080/"
        },
        "id": "z7KLmPxxGt7W",
        "outputId": "e540ca87-d72e-447b-8a9e-ee8bd2f81d0e"
      },
      "execution_count": null,
      "outputs": [
        {
          "output_type": "stream",
          "name": "stdout",
          "text": [
            "[1, 2, 3]\n",
            "[7, 8, 9, 10]\n",
            "[1, 3, 5, 7, 9]\n"
          ]
        }
      ]
    },
    {
      "cell_type": "markdown",
      "source": [
        "4. **List 2D – Matriks**"
      ],
      "metadata": {
        "id": "6Cgk2ZBCIYHs"
      }
    },
    {
      "cell_type": "code",
      "source": [
        "matriks = [\n",
        "    [1, 2, 3],\n",
        "    [4, 5, 6]\n",
        "]\n",
        "\n",
        "print (matriks[0][1])\n",
        "print (matriks[1] [2])\n",
        "print (matriks[0])"
      ],
      "metadata": {
        "colab": {
          "base_uri": "https://localhost:8080/"
        },
        "id": "McgrIUVnIeh6",
        "outputId": "678a6e2d-8a7f-45b0-8449-67f63bf47d4c"
      },
      "execution_count": null,
      "outputs": [
        {
          "output_type": "stream",
          "name": "stdout",
          "text": [
            "2\n",
            "6\n",
            "[1, 2, 3]\n"
          ]
        }
      ]
    },
    {
      "cell_type": "markdown",
      "source": [
        "5. **Operasi Matriks 2D**"
      ],
      "metadata": {
        "id": "-d8FvX56L1YT"
      }
    },
    {
      "cell_type": "code",
      "source": [
        "A = [\n",
        "    [1, 2],\n",
        "    [3, 4]\n",
        "]\n",
        "\n",
        "B = [\n",
        "    [5, 6],\n",
        "    [7, 8]\n",
        "]\n",
        "\n",
        "C = []\n",
        "for i in range(len(A)):\n",
        "    baris = []\n",
        "    for j in range(len(A[0])):\n",
        "        baris.append(A[i][j] + B[i][j])\n",
        "    C.append(baris)\n",
        "\n",
        "print(\"Hasil Penjumlahan A + B:\")\n",
        "for row in C:\n",
        "    print(row)"
      ],
      "metadata": {
        "colab": {
          "base_uri": "https://localhost:8080/"
        },
        "id": "ylvUVeWwL2xw",
        "outputId": "34c62dc3-83e8-4a8f-c504-9d17b07b15b8"
      },
      "execution_count": null,
      "outputs": [
        {
          "output_type": "stream",
          "name": "stdout",
          "text": [
            "Hasil Penjumlahan A + B:\n",
            "[6, 8]\n",
            "[10, 12]\n"
          ]
        }
      ]
    },
    {
      "cell_type": "markdown",
      "source": [
        "6. **Rata-rata Nilai Mahasiswa**"
      ],
      "metadata": {
        "id": "BUFncoAEOG1s"
      }
    },
    {
      "cell_type": "code",
      "source": [
        "nilai = [\n",
        "   [75, 80, 85],\n",
        "    [60, 70, 65],\n",
        "   [90, 95, 92]\n",
        "]\n",
        "\n",
        "for i, baris\tin enumerate(nilai, start=1):\n",
        "\trata = sum(baris) / len(baris)\n",
        "\tprint(f\"Rata-rata mahasiswa {i}: {rata:.2f}\")"
      ],
      "metadata": {
        "colab": {
          "base_uri": "https://localhost:8080/"
        },
        "id": "rret5ZFoOHLs",
        "outputId": "792213df-1f97-43f1-8645-417f1ba57319"
      },
      "execution_count": null,
      "outputs": [
        {
          "output_type": "stream",
          "name": "stdout",
          "text": [
            "Rata-rata mahasiswa 1: 80.00\n",
            "Rata-rata mahasiswa 2: 65.00\n",
            "Rata-rata mahasiswa 3: 92.33\n"
          ]
        }
      ]
    },
    {
      "cell_type": "markdown",
      "source": [
        "7.\t**Studi Kasus – Data Toko**"
      ],
      "metadata": {
        "id": "dix8sFEIQaJE"
      }
    },
    {
      "cell_type": "code",
      "source": [
        "stok = [\n",
        "    [\"buku: \", 20]\n",
        "    [\"pensil: \", 35]\n",
        "    [\"penghapus: \", 15]\n",
        "]\n",
        "\n",
        "for i barisan in  enumerate"
      ],
      "metadata": {
        "id": "ETCGnoKsQagu"
      },
      "execution_count": null,
      "outputs": []
    },
    {
      "cell_type": "code",
      "metadata": {
        "id": "4b39affa",
        "colab": {
          "base_uri": "https://localhost:8080/"
        },
        "outputId": "7f261096-8138-4376-f731-2a5bb830b66e"
      },
      "source": [
        "stok = [\n",
        "    [\"buku\", 20],\n",
        "    [\"penghapus\", 15],\n",
        "    [\"pulpen\", 50],\n",
        "]\n",
        "\n",
        "print(\"Daftar Barang dan Stok:\")\n",
        "for item, jumlah in stok:\n",
        "    print(f\"{item}: {jumlah}\")\n",
        "\n",
        "stok_terbanyak = 0\n",
        "barang_terbanyak = \"\"\n",
        "\n",
        "for item, jumlah in stok:\n",
        "    if jumlah > stok_terbanyak:\n",
        "        stok_terbanyak = jumlah\n",
        "        barang_terbanyak = item\n",
        "\n",
        "print(f\"\\nBarang dengan stok terbanyak adalah {barang_terbanyak} dengan jumlah {stok_terbanyak}.\")"
      ],
      "execution_count": null,
      "outputs": [
        {
          "output_type": "stream",
          "name": "stdout",
          "text": [
            "Daftar Barang dan Stok:\n",
            "buku: 20\n",
            "penghapus: 15\n",
            "pulpen: 50\n",
            "\n",
            "Barang dengan stok terbanyak adalah pulpen dengan jumlah 50.\n"
          ]
        }
      ]
    }
  ]
}