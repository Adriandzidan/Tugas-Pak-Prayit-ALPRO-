{
  "nbformat": 4,
  "nbformat_minor": 0,
  "metadata": {
    "colab": {
      "provenance": [],
      "authorship_tag": "ABX9TyMDui+Ysiv3CqOLYwZt5DKC",
      "include_colab_link": true
    },
    "kernelspec": {
      "name": "python3",
      "display_name": "Python 3"
    },
    "language_info": {
      "name": "python"
    }
  },
  "cells": [
    {
      "cell_type": "markdown",
      "metadata": {
        "id": "view-in-github",
        "colab_type": "text"
      },
      "source": [
        "<a href=\"https://colab.research.google.com/github/Adriandzidan/Tugas-Pak-Prayit-ALPRO-/blob/main/Jobsheet07.ipynb\" target=\"_parent\"><img src=\"https://colab.research.google.com/assets/colab-badge.svg\" alt=\"Open In Colab\"/></a>"
      ]
    },
    {
      "cell_type": "markdown",
      "source": [
        "# **HASIL PRAKTIKUM**"
      ],
      "metadata": {
        "id": "ynHwaIMAmB06"
      }
    },
    {
      "cell_type": "markdown",
      "source": [
        "**Praktikum 01 – Tuple: Data Tetap yang Tidak Bisa Diubah**"
      ],
      "metadata": {
        "id": "xhFiPejgmDWV"
      }
    },
    {
      "cell_type": "code",
      "execution_count": null,
      "metadata": {
        "id": "jy2OiOcxV6nC",
        "colab": {
          "base_uri": "https://localhost:8080/"
        },
        "outputId": "6ee667a8-c221-4764-d442-86521d73e510"
      },
      "outputs": [
        {
          "output_type": "stream",
          "name": "stdout",
          "text": [
            "lintang:  7.05\n",
            "bujur:  110.44\n"
          ]
        }
      ],
      "source": [
        "  kordinat = (7.05, 110.44)\n",
        "  print(\"lintang: \", kordinat[0])\n",
        "  print(\"bujur: \", kordinat[1])"
      ]
    },
    {
      "cell_type": "markdown",
      "source": [
        "**Praktikum 02 – Dictionary Dasar: Menyimpan Data Mahasiswa**"
      ],
      "metadata": {
        "id": "MOmbHwgGZO31"
      }
    },
    {
      "cell_type": "code",
      "source": [
        "mahasiswa = {\n",
        "    \"NIM\" : \"20251001\",\n",
        "    \"nama\" : \"andi\",\n",
        "    \"prodi\" : \"TRK\"\n",
        "}\n",
        "\n",
        "print(\"NIM: \", mahasiswa[\"NIM\"])\n",
        "print(\"nama: \", mahasiswa[\"nama\"])\n",
        "print(\"prodi: \", mahasiswa[\"prodi\"])"
      ],
      "metadata": {
        "colab": {
          "base_uri": "https://localhost:8080/"
        },
        "id": "ZiDbyXyRZPH6",
        "outputId": "0f8ecb6b-7cef-4ea7-f1e1-6359157407df"
      },
      "execution_count": null,
      "outputs": [
        {
          "output_type": "stream",
          "name": "stdout",
          "text": [
            "NIM:  20251001\n",
            "nama:  andi\n",
            "prodi:  TRK\n"
          ]
        }
      ]
    },
    {
      "cell_type": "markdown",
      "source": [
        "**Praktikum 03 – Operasi pada Dictionary**"
      ],
      "metadata": {
        "id": "M4IkzmIVajz7"
      }
    },
    {
      "cell_type": "code",
      "source": [
        "mahasiswa = {\n",
        "    \"NIM\" : \"20251001\",\n",
        "    \"nama\" : \"andi\",\n",
        "    \"prodi\" : \"TRK\"\n",
        "}\n",
        "\n",
        "mahasiswa[\"umur\"] = 20\n",
        "mahasiswa [\"prodi\"] = \"teknik komputer\"\n",
        "del mahasiswa[\"umur\"]\n",
        "\n",
        "print(mahasiswa)"
      ],
      "metadata": {
        "colab": {
          "base_uri": "https://localhost:8080/"
        },
        "id": "dJXpjk1vakJ7",
        "outputId": "38167578-2bf0-45a2-d3ce-3f0c7b65d24b"
      },
      "execution_count": null,
      "outputs": [
        {
          "output_type": "stream",
          "name": "stdout",
          "text": [
            "{'NIM': '20251001', 'nama': 'andi', 'prodi': 'teknik komputer'}\n"
          ]
        }
      ]
    },
    {
      "cell_type": "markdown",
      "source": [
        "**Praktikum 04 – Set dan Operasi Himpunan**"
      ],
      "metadata": {
        "id": "jXlffRNbb55C"
      }
    },
    {
      "cell_type": "code",
      "source": [
        "A = {1, 2, 3, 4}\n",
        "B = {3, 4, 5, 6}\n",
        "\n",
        "print(\"unuion\",  A | B)\n",
        "print(\"intersection:\", A & B)\n",
        "print(\"diffrence\", A - B)\n"
      ],
      "metadata": {
        "colab": {
          "base_uri": "https://localhost:8080/"
        },
        "id": "Ppdkkj5hb6Id",
        "outputId": "5452c2e3-0d53-43a7-a0a7-fbb555086177"
      },
      "execution_count": null,
      "outputs": [
        {
          "output_type": "stream",
          "name": "stdout",
          "text": [
            "unuion {1, 2, 3, 4, 5, 6}\n",
            "intersection: {3, 4}\n",
            "diffrence {1, 2}\n"
          ]
        }
      ]
    },
    {
      "cell_type": "markdown",
      "source": [
        "**Praktikum 05 – Studi Kasus: Data Mahasiswa dan Mata Kuliah**"
      ],
      "metadata": {
        "id": "e_tT_VUndigK"
      }
    },
    {
      "cell_type": "code",
      "source": [
        "mhs1 = (\"algoritma\", \"matematika\", \"bahasa inggris\")\n",
        "mhs2 = (\"algoritma\", \"basis data\", \"bahasa inggris\")\n",
        "\n",
        "print(\"mata kuliah mhs1: \", mhs1)\n",
        "print(\"mata kuliah mhs2: \", mhs2)\n",
        "print(\"mata kuliah yang sama:\", set(mhs1) & set(mhs2))"
      ],
      "metadata": {
        "colab": {
          "base_uri": "https://localhost:8080/"
        },
        "id": "784s731adivV",
        "outputId": "a34016c3-82d9-494d-a2ac-92b9759c05b4"
      },
      "execution_count": null,
      "outputs": [
        {
          "output_type": "stream",
          "name": "stdout",
          "text": [
            "mata kuliah mhs1:  ('algoritma', 'matematika', 'bahasa inggris')\n",
            "mata kuliah mhs2:  ('algoritma', 'basis data', 'bahasa inggris')\n",
            "mata kuliah yang sama: {'algoritma', 'bahasa inggris'}\n"
          ]
        }
      ]
    },
    {
      "cell_type": "markdown",
      "source": [
        "**Praktikum 06 – Studi Kasus Dictionary: Daftar Nilai Mahasiswa**"
      ],
      "metadata": {
        "id": "pps07pqoeqGT"
      }
    },
    {
      "cell_type": "code",
      "source": [
        "nilai_mahasiswa = {\n",
        "    \"andi\" : 80,\n",
        "    \"budi\" : 75,\n",
        "    \"cici\" : 90\n",
        "}\n",
        "\n",
        "for nama, nilai in nilai_mahasiswa.items():\n",
        "    print(f\"{nama}: {nilai}\")\n",
        "\n",
        "rata = sum(nilai_mahasiswa.values()) / len(nilai_mahasiswa)\n",
        "print(f\"rata-rata nilai: {rata:.2f}\")"
      ],
      "metadata": {
        "colab": {
          "base_uri": "https://localhost:8080/"
        },
        "id": "YnLjt7hreqcm",
        "outputId": "effefb7f-cde8-42b2-f67c-28b1479d3d36"
      },
      "execution_count": null,
      "outputs": [
        {
          "output_type": "stream",
          "name": "stdout",
          "text": [
            "andi: 80\n",
            "budi: 75\n",
            "cici: 90\n",
            "rata-rata nilai: 81.67\n"
          ]
        }
      ]
    },
    {
      "cell_type": "markdown",
      "source": [
        "# **PENUGASAN**"
      ],
      "metadata": {
        "id": "v2okvtIMhTnA"
      }
    },
    {
      "cell_type": "markdown",
      "source": [
        "1.\t**Tuple Sederhana**"
      ],
      "metadata": {
        "id": "nPCOcvnchY8F"
      }
    },
    {
      "cell_type": "code",
      "source": [],
      "metadata": {
        "id": "5kZEk4uPhfZU"
      },
      "execution_count": null,
      "outputs": []
    },
    {
      "cell_type": "code",
      "metadata": {
        "colab": {
          "base_uri": "https://localhost:8080/"
        },
        "id": "c5046617",
        "outputId": "8a32c5a9-9062-4a7f-b64a-22db9d5f3aec"
      },
      "source": [
        "mahasiswa = (\"Dumbo\", 21, \"Teknologi Rekayasa Komputer\")\n",
        "\n",
        "print(\"Nama:\", mahasiswa[0])\n",
        "print(\"Umur:\", mahasiswa[1])\n",
        "print(\"Prodi:\", mahasiswa[2])"
      ],
      "execution_count": null,
      "outputs": [
        {
          "output_type": "stream",
          "name": "stdout",
          "text": [
            "Nama: Dumbo\n",
            "Umur: 21\n",
            "Prodi: Teknologi Rekayasa Komputer\n"
          ]
        }
      ]
    },
    {
      "cell_type": "markdown",
      "source": [
        "2.\t**Tuple Tidak Bisa Diubah**"
      ],
      "metadata": {
        "id": "GlyfyojF3VrM"
      }
    },
    {
      "cell_type": "code",
      "source": [
        "angka = (1, 2, 3)\n",
        "angka[2] = 5"
      ],
      "metadata": {
        "colab": {
          "base_uri": "https://localhost:8080/",
          "height": 158
        },
        "id": "i-XKPaun3V8L",
        "outputId": "c3bde7fc-8bef-4c14-bbe4-37832ee7cf11"
      },
      "execution_count": null,
      "outputs": [
        {
          "output_type": "error",
          "ename": "TypeError",
          "evalue": "'tuple' object does not support item assignment",
          "traceback": [
            "\u001b[0;31m---------------------------------------------------------------------------\u001b[0m",
            "\u001b[0;31mTypeError\u001b[0m                                 Traceback (most recent call last)",
            "\u001b[0;32m/tmp/ipython-input-2412789814.py\u001b[0m in \u001b[0;36m<cell line: 0>\u001b[0;34m()\u001b[0m\n\u001b[1;32m      1\u001b[0m \u001b[0mangka\u001b[0m \u001b[0;34m=\u001b[0m \u001b[0;34m(\u001b[0m\u001b[0;36m1\u001b[0m\u001b[0;34m,\u001b[0m \u001b[0;36m2\u001b[0m\u001b[0;34m,\u001b[0m \u001b[0;36m3\u001b[0m\u001b[0;34m)\u001b[0m\u001b[0;34m\u001b[0m\u001b[0;34m\u001b[0m\u001b[0m\n\u001b[0;32m----> 2\u001b[0;31m \u001b[0mangka\u001b[0m\u001b[0;34m[\u001b[0m\u001b[0;36m2\u001b[0m\u001b[0;34m]\u001b[0m \u001b[0;34m=\u001b[0m \u001b[0;36m5\u001b[0m\u001b[0;34m\u001b[0m\u001b[0;34m\u001b[0m\u001b[0m\n\u001b[0m",
            "\u001b[0;31mTypeError\u001b[0m: 'tuple' object does not support item assignment"
          ]
        }
      ]
    },
    {
      "cell_type": "markdown",
      "source": [
        "3. **Dictionary Dasar**"
      ],
      "metadata": {
        "id": "Zp7kRj895ZIB"
      }
    },
    {
      "cell_type": "code",
      "source": [
        "buku = {\n",
        "    \"Judul\" : \"Algoritma\",\n",
        "    \"penulis\" : \"Munir\",\n",
        "    \"Tahun\" : \"2021\"\n",
        "}\n",
        "\n",
        "print(\"Judul:\", buku[\"Judul\"])\n",
        "print(\"penulis:\", buku[\"penulis\"])\n",
        "print(\"Tahun:\", buku[\"Tahun\"])"
      ],
      "metadata": {
        "colab": {
          "base_uri": "https://localhost:8080/"
        },
        "id": "Guvif9nP5eUt",
        "outputId": "5ddfe3c4-312d-4b75-ce59-fa40a8a2414d"
      },
      "execution_count": null,
      "outputs": [
        {
          "output_type": "stream",
          "name": "stdout",
          "text": [
            "Judul: Algoritma\n",
            "penulis: Munir\n",
            "Tahun: 2021\n"
          ]
        }
      ]
    },
    {
      "cell_type": "markdown",
      "source": [
        "4. **Operasi Dictionary**"
      ],
      "metadata": {
        "id": "-K9XERgM7dmc"
      }
    },
    {
      "cell_type": "code",
      "source": [
        "Data_dosen = {\n",
        "    \"NIP\": \"12345\",\n",
        "    \"Nama\": \"Budi\",\n",
        "    \"Prodi\": \"TRK\"\n",
        "}\n",
        "Data_dosen[\"umur\"] = 40\n",
        "Data_dosen[\"Prodi\"] = \"Teknologi Rekaysa Komputer\"\n",
        "del Data_dosen[\"umur\"]\n",
        "print(Data_dosen)"
      ],
      "metadata": {
        "id": "64v0K9G17d1i",
        "colab": {
          "base_uri": "https://localhost:8080/"
        },
        "outputId": "b215f007-93f0-45e9-82b5-76f39110048a"
      },
      "execution_count": 16,
      "outputs": [
        {
          "output_type": "stream",
          "name": "stdout",
          "text": [
            "{'NIP': '12345', 'Nama': 'Budi', 'Prodi': 'Teknologi Rekaysa Komputer'}\n"
          ]
        }
      ]
    },
    {
      "cell_type": "markdown",
      "source": [
        "5. **Set dan Himpunan**"
      ],
      "metadata": {
        "id": "xrROVyeNCpG_"
      }
    },
    {
      "cell_type": "code",
      "source": [
        "A = {\"matematika\", \"algoritma\", \"bahasa inggris\"}\n",
        "B = {\"algoritma\", \"basis data\", \"matematika\"}\n",
        "\n",
        "print(\"unuion\",  A | B)\n",
        "print(\"intersection:\", A & B)\n",
        "print(\"diffrence\", A - B)\n"
      ],
      "metadata": {
        "colab": {
          "base_uri": "https://localhost:8080/"
        },
        "id": "yex7WA7CCpY-",
        "outputId": "52ded1e9-8e24-4452-91a7-0803868fca7b"
      },
      "execution_count": 18,
      "outputs": [
        {
          "output_type": "stream",
          "name": "stdout",
          "text": [
            "unuion {'algoritma', 'matematika', 'bahasa inggris', 'basis data'}\n",
            "intersection: {'algoritma', 'matematika'}\n",
            "diffrence {'bahasa inggris'}\n"
          ]
        }
      ]
    },
    {
      "cell_type": "markdown",
      "source": [
        "6. **Studi Kasus Dictionary**"
      ],
      "metadata": {
        "id": "Blg9zfV6DX6h"
      }
    },
    {
      "cell_type": "code",
      "source": [
        "nilai_mahasiswa = {\n",
        "    \"andi\" : 85,\n",
        "    \"budi\" : 90,\n",
        "    \"cici\" : 78\n",
        "}\n",
        "\n",
        "for nama, nilai in nilai_mahasiswa.items():\n",
        "    print(f\"{nama}: {nilai}\")\n",
        "\n",
        "rata = sum(nilai_mahasiswa.values()) / len(nilai_mahasiswa)\n",
        "print(f\"rata-rata nilai: {rata:.2f}\")"
      ],
      "metadata": {
        "colab": {
          "base_uri": "https://localhost:8080/"
        },
        "id": "SDVgDEdNDYNu",
        "outputId": "5bae2910-9bf6-41b7-eb27-90295594fc8c"
      },
      "execution_count": 19,
      "outputs": [
        {
          "output_type": "stream",
          "name": "stdout",
          "text": [
            "andi: 85\n",
            "budi: 90\n",
            "cici: 78\n",
            "rata-rata nilai: 84.33\n"
          ]
        }
      ]
    },
    {
      "cell_type": "markdown",
      "source": [
        "7. **Studi Kasus Set – Klub Mahasiswa**"
      ],
      "metadata": {
        "id": "FnusZ1pkD04K"
      }
    },
    {
      "cell_type": "code",
      "source": [
        "A = {\"ANDI\", \"BUDI\", \"CICI\"}\n",
        "B = {\"CICI\", \"DENI\", \"EKA\"}\n",
        "\n",
        "print(\"unuion\",  A | B)\n",
        "print(\"intersection:\", A & B)\n",
        "print(\"diffrence\", A - B)\n"
      ],
      "metadata": {
        "colab": {
          "base_uri": "https://localhost:8080/"
        },
        "id": "viK-nizOD1Qm",
        "outputId": "9e5fb92a-0efa-46a2-efcb-d9d557df8bc3"
      },
      "execution_count": 20,
      "outputs": [
        {
          "output_type": "stream",
          "name": "stdout",
          "text": [
            "unuion {'CICI', 'EKA', 'DENI', 'ANDI', 'BUDI'}\n",
            "intersection: {'CICI'}\n",
            "diffrence {'ANDI', 'BUDI'}\n"
          ]
        }
      ]
    }
  ]
}