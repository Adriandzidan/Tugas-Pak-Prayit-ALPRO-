{
  "nbformat": 4,
  "nbformat_minor": 0,
  "metadata": {
    "colab": {
      "provenance": [],
      "authorship_tag": "ABX9TyNuxQ36iv9KeCPwbj3XOmp7",
      "include_colab_link": true
    },
    "kernelspec": {
      "name": "python3",
      "display_name": "Python 3"
    },
    "language_info": {
      "name": "python"
    }
  },
  "cells": [
    {
      "cell_type": "markdown",
      "metadata": {
        "id": "view-in-github",
        "colab_type": "text"
      },
      "source": [
        "<a href=\"https://colab.research.google.com/github/Adriandzidan/Tugas-Pak-Prayit-ALPRO-/blob/main/Jobsheet02.ipynb\" target=\"_parent\"><img src=\"https://colab.research.google.com/assets/colab-badge.svg\" alt=\"Open In Colab\"/></a>"
      ]
    },
    {
      "cell_type": "markdown",
      "source": [
        "#**HASIL PRAKTIKUM**\n"
      ],
      "metadata": {
        "id": "sTIobJXzf3VE"
      }
    },
    {
      "cell_type": "markdown",
      "source": [
        "**1.Pengenalan Variabel & Tipe Data**"
      ],
      "metadata": {
        "id": "MhRyaRTafgjA"
      }
    },
    {
      "cell_type": "code",
      "execution_count": null,
      "metadata": {
        "id": "UfwKSdk_ez0z",
        "colab": {
          "base_uri": "https://localhost:8080/"
        },
        "outputId": "ee078133-a009-4818-8a48-aa95728f4c81"
      },
      "outputs": [
        {
          "output_type": "stream",
          "name": "stdout",
          "text": [
            "umur: 25 → <class 'int'>\n",
            "tinggi: 168 → <class 'int'>\n",
            "nama: Jumbo → <class 'str'>\n",
            "Status Mahasiswa: True → <class 'bool'>\n",
            "Nilai: [120, 30, 50] → <class 'list'>\n",
            "Koordinat: (10, 20) → <class 'tuple'>\n",
            "Data Mahasiswa: {'nama': 'Jumbo', 'umur': 25, 'prodi': 'TRK'} → <class 'dict'>\n",
            "Hobi: {'badminton', 'futsal', 'musik'} → <class 'set'>\n"
          ]
        }
      ],
      "source": [
        "from os import name\n",
        "# interger\n",
        "umur = 25\n",
        "print (\"umur:\", umur, \"→\", type(umur))\n",
        "\n",
        "# FLoat\n",
        "tinggi = 168\n",
        "print (\"tinggi:\", tinggi, \"→\", type(tinggi))\n",
        "\n",
        "\n",
        "# string\n",
        "nama = \"Jumbo\"\n",
        "print (\"nama:\", nama, \"→\", type(nama))\n",
        "\n",
        "# Boolean\n",
        "is_mahasiswa = True\n",
        "print(\"Status Mahasiswa:\", is_mahasiswa, \"→\", type(is_mahasiswa))\n",
        "\n",
        "# list\n",
        "nilai = [120, 30, 50]\n",
        "print(\"Nilai:\", nilai, \"→\", type(nilai))\n",
        "\n",
        "# tuple\n",
        "koordinat = (10, 20)\n",
        "print(\"Koordinat:\", koordinat, \"→\", type(koordinat))\n",
        "\n",
        "# dictionary\n",
        "mahasiswa = {\"nama\": \"Jumbo\", \"umur\": 25, \"prodi\": \"TRK\"}\n",
        "print(\"Data Mahasiswa:\", mahasiswa, \"→\", type(mahasiswa))\n",
        "\n",
        "# set\n",
        "hobi = {\"futsal\", \"badminton\", \"musik\"}\n",
        "print(\"Hobi:\", hobi, \"→\", type(hobi))"
      ]
    },
    {
      "cell_type": "markdown",
      "source": [
        "**2.Input dan Output Dasar (variasi format)**\n"
      ],
      "metadata": {
        "id": "uzliKLpjmQIH"
      }
    },
    {
      "cell_type": "code",
      "source": [
        "# input string\n",
        "nama = input(\"masukkan nama anda: \")\n",
        "\n",
        "# input integer\n",
        "umur = int(input(\"masukkan umur anda: \"))\n",
        "\n",
        "#input float\n",
        "tinggi = float (input(\"masukkan tinggi badan(cm): \"))\n",
        "\n",
        "# output standar\n",
        "print(\"Halo,\", nama, \"umur Anda:\", umur, \"tahun, tinggi:\", tinggi, \"cm\")\n",
        "\n",
        "# output dengan format()\n",
        "print(\"Halo {0}, umur Anda {1} tahun, tinggi {2} cm\".format(nama, umur,\n",
        "tinggi))\n",
        "\n",
        "# Output dengan f-string\n",
        "print(f\"Halo {nama}, umur Anda {umur} tahun, tinggi {tinggi} cm\")"
      ],
      "metadata": {
        "id": "z5LvqagrmQVf",
        "colab": {
          "base_uri": "https://localhost:8080/"
        },
        "outputId": "db3ceaa1-b0ca-41f6-e2f3-136ec5cad1f3"
      },
      "execution_count": null,
      "outputs": [
        {
          "output_type": "stream",
          "name": "stdout",
          "text": [
            "masukkan nama anda: jidun\n",
            "masukkan umur anda: 20\n",
            "masukkan tinggi badan(cm): 168\n",
            "Halo, jidun umur Anda: 20 tahun, tinggi: 168.0 cm\n",
            "Halo jidun, umur Anda 20 tahun, tinggi 168.0 cm\n",
            "Halo jidun, umur Anda 20 tahun, tinggi 168.0 cm\n"
          ]
        }
      ]
    },
    {
      "cell_type": "markdown",
      "source": [
        "**3.Operator Aritmatika**"
      ],
      "metadata": {
        "id": "EkPZzEuHFJKc"
      }
    },
    {
      "cell_type": "code",
      "source": [
        "a = 25\n",
        "b = 7\n",
        "\n",
        "print(\"a + b =\", a + b)\n",
        "print(\"a - b =\", a - b)\n",
        "print(\"a * b =\", a * b)\n",
        "print(\"a / b =\", a / b)\n",
        "print(\"a // b =\", a // b)\n",
        "print(\"a % b =\", a % b)\n",
        "print(\"a ** b =\", a ** b)"
      ],
      "metadata": {
        "id": "28Fi3R_uFJY1",
        "colab": {
          "base_uri": "https://localhost:8080/"
        },
        "outputId": "979d1a92-9089-4288-8e45-c2cce82a253b"
      },
      "execution_count": null,
      "outputs": [
        {
          "output_type": "stream",
          "name": "stdout",
          "text": [
            "a + b = 32\n",
            "a - b = 18\n",
            "a * b = 175\n",
            "a / b = 3.5714285714285716\n",
            "a // b = 3\n",
            "a % b = 4\n",
            "a ** b = 6103515625\n"
          ]
        }
      ]
    },
    {
      "cell_type": "markdown",
      "source": [
        "**4.Operator Relasional**"
      ],
      "metadata": {
        "id": "1ajFVjLIFJpk"
      }
    },
    {
      "cell_type": "code",
      "source": [
        "x = 30\n",
        "y = 20\n",
        "\n",
        "print(\"x == y :\", x == y)\n",
        "print(\"x != y :\", x != y)\n",
        "print(\"x < y :\", x < y)\n",
        "print(\"x > y :\", x > y)\n",
        "print(\"x <= y :\", x <= y)\n",
        "print(\"x >= y :\", x >= y)"
      ],
      "metadata": {
        "id": "kTLjugl7FJ4b",
        "colab": {
          "base_uri": "https://localhost:8080/"
        },
        "outputId": "237e7db5-d176-469f-c439-07765d30b6f0"
      },
      "execution_count": null,
      "outputs": [
        {
          "output_type": "stream",
          "name": "stdout",
          "text": [
            "x == y : False\n",
            "x != y : True\n",
            "x < y : False\n",
            "x > y : True\n",
            "x <= y : False\n",
            "x >= y : True\n"
          ]
        }
      ]
    },
    {
      "cell_type": "markdown",
      "source": [
        "**5.Operator Logika (dasar + studi kasus kelulusan)**"
      ],
      "metadata": {
        "id": "akDmYvzkFKH4"
      }
    },
    {
      "cell_type": "code",
      "source": [
        "# Operator logika dasar\n",
        "a = True\n",
        "b = False\n",
        "\n",
        "print(\"a and b =\", a and b)\n",
        "print(\"a or b =\", a or b)\n",
        "print(\"not a =\", not a)\n",
        "\n",
        "# Studi kasus nyata: kelulusan\n",
        "nilai = int(input(\"Masukkan nilai ujian: \"))\n",
        "hadir = int(input(\"Masukkan jumlah kehadiran: \"))\n",
        "\n",
        "lulus_nilai = nilai >= 65\n",
        "lulus_hadir = hadir >= 11 # dari 16 pertemuan\n",
        "\n",
        "if lulus_nilai and lulus_hadir:\n",
        "    print(\"Status: LULUS\")\n",
        "else:\n",
        "    print(\"Status: TIDAK LULUS\")"
      ],
      "metadata": {
        "id": "jaaiSDFRFr_8",
        "colab": {
          "base_uri": "https://localhost:8080/"
        },
        "outputId": "8b60a108-aa34-4da0-b62b-6e38a67bc224"
      },
      "execution_count": null,
      "outputs": [
        {
          "output_type": "stream",
          "name": "stdout",
          "text": [
            "a and b = False\n",
            "a or b = True\n",
            "not a = False\n",
            "Masukkan nilai ujian: 67\n",
            "Masukkan jumlah kehadiran: 10\n",
            "Status: TIDAK LULUS\n"
          ]
        }
      ]
    },
    {
      "cell_type": "markdown",
      "source": [
        "**6.Program Kasir Sederhana**"
      ],
      "metadata": {
        "id": "9U56DyF0Frx0"
      }
    },
    {
      "cell_type": "code",
      "source": [
        "barang = input(\"Masukkan nama barang: \")\n",
        "harga = int(input(\"Masukkan harga barang: \"))\n",
        "jumlah = int(input(\"Masukkan jumlah barang yang dibeli: \"))\n",
        "\n",
        "total = harga * jumlah\n",
        "\n",
        "# aturan diskon\n",
        "if total >= 500000:\n",
        "  diskon = 0.2\n",
        "elif total >= 250000:\n",
        "  diskon = 0.1\n",
        "else:\n",
        "  diskon = 0\n",
        "\n",
        "potongan = total * diskon\n",
        "bayar = total - potongan\n",
        "\n",
        "print(\"\\n===== Struk Belanja =====\")\n",
        "print(f\"Barang : {barang}\")\n",
        "print(f\"Jumlah : {jumlah}\")\n",
        "print(f\"Total : Rp {total}\")\n",
        "print(f\"Diskon : {diskon * 100}%\")\n",
        "print(f\"Bayar : Rp {bayar}\")\n"
      ],
      "metadata": {
        "id": "IMwx3C-wFKXA",
        "colab": {
          "base_uri": "https://localhost:8080/"
        },
        "outputId": "f99251e9-1daa-4633-80b5-e8402a8f8f60"
      },
      "execution_count": null,
      "outputs": [
        {
          "output_type": "stream",
          "name": "stdout",
          "text": [
            "Masukkan nama barang: bearbraand\n",
            "Masukkan harga barang: 500000\n",
            "Masukkan jumlah barang yang dibeli: 1\n",
            "\n",
            "===== Struk Belanja =====\n",
            "Barang : bearbraand\n",
            "Jumlah : 1\n",
            "Total : Rp 500000\n",
            "Diskon : 20.0%\n",
            "Bayar : Rp 400000.0\n"
          ]
        }
      ]
    },
    {
      "cell_type": "markdown",
      "source": [
        "# **PENUGASAN**"
      ],
      "metadata": {
        "id": "IgUMvn7RPSgg"
      }
    },
    {
      "cell_type": "markdown",
      "source": [
        "**1. Identitas Mahasiswa**"
      ],
      "metadata": {
        "id": "oBnx2IBWPSxw"
      }
    },
    {
      "cell_type": "code",
      "source": [
        "# string\n",
        "nama = \"Dumbo\"\n",
        "print (\"nama:\", nama, \"→\", type(nama))\n",
        "\n",
        "# integer\n",
        "umur = 18\n",
        "print(\"umur:\", umur, \"→\", type(umur))\n",
        "\n",
        "# float\n",
        "tinggi = 150\n",
        "print(\"tinggi:\", tinggi, \"→\", type(tinggi))\n",
        "\n",
        "# boolean\n",
        "is_mahasiswa = True\n",
        "print(\"Status Mahasiswa:\", is_mahasiswa, \"→\", type(is_mahasiswa))"
      ],
      "metadata": {
        "colab": {
          "base_uri": "https://localhost:8080/"
        },
        "id": "fsahdS4vP68P",
        "outputId": "b08e6ea0-2a80-47f6-d677-9f194779145e"
      },
      "execution_count": null,
      "outputs": [
        {
          "output_type": "stream",
          "name": "stdout",
          "text": [
            "nama: Dumbo → <class 'str'>\n",
            "umur: 18 → <class 'int'>\n",
            "tinggi: 150 → <class 'int'>\n",
            "Status Mahasiswa: True → <class 'bool'>\n"
          ]
        }
      ]
    },
    {
      "cell_type": "markdown",
      "source": [
        "**2.Operasi Aritmatika**"
      ],
      "metadata": {
        "id": "w9yh4A4wP7JX"
      }
    },
    {
      "cell_type": "code",
      "source": [
        "a = 9\n",
        "b = 9\n",
        "\n",
        "print(\"a + b =\", a + b)\n",
        "print(\"a - b =\", a - b)\n",
        "print(\"a * b =\", a * b)\n",
        "print(\"a / b =\", a / b)\n",
        "print(\"a % b =\", a % b)\n",
        "print(\"a ** b =\", a ** b)"
      ],
      "metadata": {
        "colab": {
          "base_uri": "https://localhost:8080/"
        },
        "id": "CPqr0RxzP7ad",
        "outputId": "c8b91ba5-db32-47b9-d40b-b03bb99308da"
      },
      "execution_count": null,
      "outputs": [
        {
          "output_type": "stream",
          "name": "stdout",
          "text": [
            "a + b = 18\n",
            "a - b = 0\n",
            "a * b = 81\n",
            "a / b = 1.0\n",
            "a % b = 0\n",
            "a ** b = 387420489\n"
          ]
        }
      ]
    },
    {
      "cell_type": "markdown",
      "source": [
        "**3. Konversi Nilai**"
      ],
      "metadata": {
        "id": "8KGf5ARfP7m5"
      }
    },
    {
      "cell_type": "code",
      "source": [
        "angka = float(input(\"masukkan sebuah angka desimal: \"))\n",
        "\n",
        "print(\"\\n===== hasil konversi nilai =====\")\n",
        "print(\"dalam bentuk iteger:\", int(angka))\n",
        "print(\"dalam bentuk string:\", str(angka))\n",
        "print(\"hasil pembulatan 2 digit dibelakang koma:\", round(angka, 2))"
      ],
      "metadata": {
        "id": "8Gpqje8mP72t",
        "colab": {
          "base_uri": "https://localhost:8080/"
        },
        "outputId": "60970ae0-e6a5-4b31-ddfb-e414a4caef3f"
      },
      "execution_count": null,
      "outputs": [
        {
          "output_type": "stream",
          "name": "stdout",
          "text": [
            "masukkan sebuah angka desimal: 1\n",
            "\n",
            "===== hasil konversi nilai =====\n",
            "dalam bentuk iteger: 1\n",
            "dalam bentuk string: 1.0\n",
            "hasil pembulatan 2 digit dibelakang koma: 1.0\n"
          ]
        }
      ]
    },
    {
      "cell_type": "markdown",
      "source": [
        "**4.Operator Relasional**"
      ],
      "metadata": {
        "id": "1QK1jXrPP9-W"
      }
    },
    {
      "cell_type": "code",
      "source": [
        "x = 15\n",
        "y = 14\n",
        "\n",
        "print(\"x == y :\", x == y)\n",
        "print(\"x != y :\", x != y)\n",
        "print(\"x < y :\", x < y)\n",
        "print(\"x > y :\", x > y)\n",
        "print(\"x <= y :\", x <= y)\n",
        "print(\"x >= y :\", x >= y)"
      ],
      "metadata": {
        "colab": {
          "base_uri": "https://localhost:8080/"
        },
        "id": "zlyYauKrP-ON",
        "outputId": "44bcb3a8-53aa-4d19-fe6d-16d0b9985239"
      },
      "execution_count": null,
      "outputs": [
        {
          "output_type": "stream",
          "name": "stdout",
          "text": [
            "x == y : False\n",
            "x != y : True\n",
            "x < y : False\n",
            "x > y : True\n",
            "x <= y : False\n",
            "x >= y : True\n"
          ]
        }
      ]
    }
  ]
}